{
 "cells": [
  {
   "cell_type": "markdown",
   "id": "8d87e1fc",
   "metadata": {},
   "source": [
    "### 1. Why am I getting an UnboundLocalError when the variable has a value?"
   ]
  },
  {
   "cell_type": "code",
   "execution_count": 2,
   "id": "de2033a0",
   "metadata": {},
   "outputs": [
    {
     "ename": "UnboundLocalError",
     "evalue": "local variable 'x' referenced before assignment",
     "output_type": "error",
     "traceback": [
      "\u001b[1;31m---------------------------------------------------------------------------\u001b[0m",
      "\u001b[1;31mUnboundLocalError\u001b[0m                         Traceback (most recent call last)",
      "Input \u001b[1;32mIn [2]\u001b[0m, in \u001b[0;36m<cell line: 5>\u001b[1;34m()\u001b[0m\n\u001b[0;32m      3\u001b[0m     \u001b[38;5;28mprint\u001b[39m(x)\n\u001b[0;32m      4\u001b[0m     x\u001b[38;5;241m+\u001b[39m\u001b[38;5;241m=\u001b[39m\u001b[38;5;241m1\u001b[39m\n\u001b[1;32m----> 5\u001b[0m \u001b[43mbar\u001b[49m\u001b[43m(\u001b[49m\u001b[43m)\u001b[49m\n",
      "Input \u001b[1;32mIn [2]\u001b[0m, in \u001b[0;36mbar\u001b[1;34m()\u001b[0m\n\u001b[0;32m      2\u001b[0m \u001b[38;5;28;01mdef\u001b[39;00m \u001b[38;5;21mbar\u001b[39m():\n\u001b[1;32m----> 3\u001b[0m     \u001b[38;5;28mprint\u001b[39m(\u001b[43mx\u001b[49m)\n\u001b[0;32m      4\u001b[0m     x\u001b[38;5;241m+\u001b[39m\u001b[38;5;241m=\u001b[39m\u001b[38;5;241m1\u001b[39m\n",
      "\u001b[1;31mUnboundLocalError\u001b[0m: local variable 'x' referenced before assignment"
     ]
    }
   ],
   "source": [
    "x = 10\n",
    "def bar():\n",
    "    print(x)\n",
    "    x+=1\n",
    "bar()"
   ]
  },
  {
   "cell_type": "code",
   "execution_count": 4,
   "id": "5b9e1bf7",
   "metadata": {},
   "outputs": [
    {
     "name": "stdout",
     "output_type": "stream",
     "text": [
      "10\n"
     ]
    }
   ],
   "source": [
    "x = 10\n",
    "def bar():\n",
    "    global x\n",
    "    print(x)\n",
    "    x+=1\n",
    "bar()"
   ]
  },
  {
   "cell_type": "markdown",
   "id": "04743ad8",
   "metadata": {},
   "source": [
    "### 2. Why do lambdas defined in a loop with different values all return the same result?"
   ]
  },
  {
   "cell_type": "code",
   "execution_count": 8,
   "id": "d5178a19",
   "metadata": {},
   "outputs": [],
   "source": [
    "squares = []\n",
    "for x in range(5):\n",
    "    squares.append(lambda: x**2)"
   ]
  },
  {
   "cell_type": "code",
   "execution_count": 9,
   "id": "bd878925",
   "metadata": {},
   "outputs": [],
   "source": [
    "squares = []\n",
    "for x in range(5):\n",
    "    squares.append(lambda n=x: n**2)"
   ]
  },
  {
   "cell_type": "markdown",
   "id": "91c8740c",
   "metadata": {},
   "source": [
    "### 3. Lambda Function with if-else"
   ]
  },
  {
   "cell_type": "code",
   "execution_count": 13,
   "id": "e70cbfd7",
   "metadata": {},
   "outputs": [
    {
     "data": {
      "text/plain": [
       "'Odd'"
      ]
     },
     "execution_count": 13,
     "metadata": {},
     "output_type": "execute_result"
    }
   ],
   "source": [
    "odd_even_lambda = lambda i: 'Even' if i % 2 ==0 else 'Odd'\n",
    "odd_even_lambda(3)"
   ]
  },
  {
   "cell_type": "markdown",
   "id": "7656c131",
   "metadata": {},
   "source": [
    "### 4. Lambda Function with if-elif-else "
   ]
  },
  {
   "cell_type": "code",
   "execution_count": 14,
   "id": "cae020de",
   "metadata": {},
   "outputs": [
    {
     "data": {
      "text/plain": [
       "'Zero'"
      ]
     },
     "execution_count": 14,
     "metadata": {},
     "output_type": "execute_result"
    }
   ],
   "source": [
    "pos_zero_neg_lambda = lambda i: 'Negative' if i < 0  else ('Zero' if i == 0 else 'Positive')\n",
    "pos_zero_neg_lambda(0)"
   ]
  },
  {
   "cell_type": "markdown",
   "id": "01d8b094",
   "metadata": {},
   "source": [
    "### 5. Lambda Function with Nested If-else"
   ]
  },
  {
   "cell_type": "code",
   "execution_count": 19,
   "id": "cf4188e1",
   "metadata": {},
   "outputs": [
    {
     "data": {
      "text/plain": [
       "'Odd'"
      ]
     },
     "execution_count": 19,
     "metadata": {},
     "output_type": "execute_result"
    }
   ],
   "source": [
    "pos_zero_neg_lambda = lambda i: 'Negative' if i < 0  else ('Zero' if i == 0 else ('Even' if i%2 == 0 else 'Odd'))\n",
    "pos_zero_neg_lambda(3)"
   ]
  },
  {
   "cell_type": "markdown",
   "id": "c52d069c",
   "metadata": {},
   "source": [
    "### 6. First 1000 prime no with lambda function."
   ]
  },
  {
   "cell_type": "code",
   "execution_count": 22,
   "id": "8b17d0ee",
   "metadata": {},
   "outputs": [
    {
     "name": "stdout",
     "output_type": "stream",
     "text": [
      "[2, 3, 5, 7, 11, 13, 17, 19, 23, 29, 31, 37, 41, 43, 47, 53, 59, 61, 67, 71, 73, 79, 83, 89, 97, 101, 103, 107, 109, 113, 127, 131, 137, 139, 149, 151, 157, 163, 167, 173, 179, 181, 191, 193, 197, 199, 211, 223, 227, 229, 233, 239, 241, 251, 257, 263, 269, 271, 277, 281, 283, 293, 307, 311, 313, 317, 331, 337, 347, 349, 353, 359, 367, 373, 379, 383, 389, 397, 401, 409, 419, 421, 431, 433, 439, 443, 449, 457, 461, 463, 467, 479, 487, 491, 499, 503, 509, 521, 523, 541, 547, 557, 563, 569, 571, 577, 587, 593, 599, 601, 607, 613, 617, 619, 631, 641, 643, 647, 653, 659, 661, 673, 677, 683, 691, 701, 709, 719, 727, 733, 739, 743, 751, 757, 761, 769, 773, 787, 797, 809, 811, 821, 823, 827, 829, 839, 853, 857, 859, 863, 877, 881, 883, 887, 907, 911, 919, 929, 937, 941, 947, 953, 967, 971, 977, 983, 991, 997]\n"
     ]
    }
   ],
   "source": [
    "from functools import reduce\n",
    "print(list(filter(None,map(lambda y:y*reduce(lambda x,y:x*y!=0,\n",
    "map(lambda x,y=y:y%x,range(2,int(pow(y,0.5)+1))),1),range(2,1000)))))"
   ]
  },
  {
   "cell_type": "code",
   "execution_count": 25,
   "id": "fa449ca7",
   "metadata": {},
   "outputs": [
    {
     "data": {
      "text/plain": [
       "<map at 0x23d51223670>"
      ]
     },
     "execution_count": 25,
     "metadata": {},
     "output_type": "execute_result"
    }
   ],
   "source": [
    "map(lambda y:y*reduce(lambda x,y:x*y!=0,\n",
    "map(lambda x,y=y:y%x,range(2,int(pow(y,0.5)+1))),1),range(2,1000))"
   ]
  },
  {
   "cell_type": "markdown",
   "id": "796094a7",
   "metadata": {},
   "source": [
    "### 7. First 10 Fibonacci series no"
   ]
  },
  {
   "cell_type": "code",
   "execution_count": 23,
   "id": "52525530",
   "metadata": {},
   "outputs": [
    {
     "name": "stdout",
     "output_type": "stream",
     "text": [
      "[1, 1, 2, 3, 5, 8, 13, 21, 34, 55]\n"
     ]
    }
   ],
   "source": [
    "# First 10 Fibonacci numbers\n",
    "print(list(map(lambda x,f=lambda x,f:(f(x-1,f)+f(x-2,f)) if x>1 else 1:\n",
    "f(x,f), range(10))))"
   ]
  },
  {
   "cell_type": "markdown",
   "id": "720ccb86",
   "metadata": {},
   "source": [
    "### 8.Mandelbrot set"
   ]
  },
  {
   "cell_type": "code",
   "execution_count": 26,
   "id": "4aff01ac",
   "metadata": {},
   "outputs": [
    {
     "name": "stdout",
     "output_type": "stream",
     "text": [
      "BBBBBBBBBBBBBBBCCCCCCCCCCCCCDDDDDDDDDDDDDDDDDDDDDDDDDDDDDDDDDDDDDCCCCCCCCCCCCCCC\n",
      "BBBBBBBBBBBBBCCCCCCCCCDDDDDDDDDDDDDDDDDDDDDDDDEEEEEEFGJJHFFFEEEEEDDDDDCCCCCCCCCC\n",
      "BBBBBBBBBBBCCCCCCCDDDDDDDDDDDDDDDDDDDDDDDEEEEEEEEEFFFGHJPJKL_FEEEEEEDDDDDDDCCCCC\n",
      "BBBBBBBBBCCCCCCDDDDDDDDDDDDDDDDDDDDDDEEEEEEEEEEFFFFGHIJZR_QJIGFFFEEEEEEDDDDDDDCC\n",
      "BBBBBBBBCCCCDDDDDDDDDDDDDDDDDDDDDDEEEEEEEEEEFFFGGGHIKP______SKHGFFFFFEEEEDDDDDDD\n",
      "BBBBBBBCCCDDDDDDDDDDDDDDDDDDDDEEEEEEEEEFFFHHIXIIIIJKLO______NKJJIHGGGHSGFEEDDDDD\n",
      "BBBBBBCCDDDDDDDDDDDDDDDDDDDEEEEEFFFFFFFGGHIM___R_________________PLN[SQXIFEEDDDD\n",
      "BBBBBCDDDDDDDDDDDDDDDDEEEFFFFFFFFFFFGGGHIKMNS_________________________UIGGFEEDDD\n",
      "BBBBBDDDDDDDDDDEEEEEFFGHOIHHHHHHHHHHHHIJLP____________________________RKJPGFEEDD\n",
      "BBBBDDDDEEEEEEEEEFFFFGGHJM___LNW_ONKJJKNY______________________________SKHGFEEED\n",
      "BBBBDEEEEEEEEEFFFFFFGHHJLOT__________QPZ_________________________________HFFEEEE\n",
      "BBBDEEEEEEEFGGGGHHHJM_QNS______________________________________________[HGFFEEEE\n",
      "BBB_________________________________________________________________QLIHGFFFEEEE\n",
      "BBBDEEEEEEEFGGGGHHHJM_QNS______________________________________________[HGFFEEEE\n",
      "BBBBDEEEEEEEEEFFFFFFGHHJLOT__________QPZ_________________________________HFFEEEE\n",
      "BBBBDDDDEEEEEEEEEFFFFGGHJM___LNW_ONKJJKNY______________________________SKHGFEEED\n",
      "BBBBBDDDDDDDDDDEEEEEFFGHOIHHHHHHHHHHHHIJLP____________________________RKJPGFEEDD\n",
      "BBBBBCDDDDDDDDDDDDDDDDEEEFFFFFFFFFFFGGGHIKMNS_________________________UIGGFEEDDD\n",
      "BBBBBBCCDDDDDDDDDDDDDDDDDDDEEEEEFFFFFFFGGHIM___R_________________PLN[SQXIFEEDDDD\n",
      "BBBBBBBCCCDDDDDDDDDDDDDDDDDDDDEEEEEEEEEFFFHHIXIIIIJKLO______NKJJIHGGGHSGFEEDDDDD\n",
      "BBBBBBBBCCCCDDDDDDDDDDDDDDDDDDDDDDEEEEEEEEEEFFFGGGHIKP______SKHGFFFFFEEEEDDDDDDD\n",
      "BBBBBBBBBCCCCCCDDDDDDDDDDDDDDDDDDDDDDEEEEEEEEEEFFFFGHIJZR_QJIGFFFEEEEEEDDDDDDDCC\n",
      "BBBBBBBBBBBCCCCCCCDDDDDDDDDDDDDDDDDDDDDDDEEEEEEEEEFFFGHJPJKL_FEEEEEEDDDDDDDCCCCC\n",
      "BBBBBBBBBBBBBCCCCCCCCCDDDDDDDDDDDDDDDDDDDDDDDDEEEEEEFGJJHFFFEEEEEDDDDDCCCCCCCCCC\n"
     ]
    }
   ],
   "source": [
    "print((lambda Ru,Ro,Iu,Io,IM,Sx,Sy:reduce(lambda x,y:x+'\\n'+y,map(lambda y,\n",
    "Iu=Iu,Io=Io,Ru=Ru,Ro=Ro,Sy=Sy,L=lambda yc,Iu=Iu,Io=Io,Ru=Ru,Ro=Ro,i=IM,\n",
    "Sx=Sx,Sy=Sy:reduce(lambda x,y:x+y,map(lambda x,xc=Ru,yc=yc,Ru=Ru,Ro=Ro,\n",
    "i=i,Sx=Sx,F=lambda xc,yc,x,y,k,f=lambda xc,yc,x,y,k,f:(k<=0)or (x*x+y*y\n",
    ">=4.0) or 1+f(xc,yc,x*x-y*y+xc,2.0*x*y+yc,k-1,f):f(xc,yc,x,y,k,f):chr(\n",
    "64+F(Ru+x*(Ro-Ru)/Sx,yc,0,0,i)),range(Sx))):L(Iu+y*(Io-Iu)/Sy),range(Sy\n",
    "))))(-2.1, 0.7, -1.2, 1.2, 30, 80, 24))"
   ]
  },
  {
   "cell_type": "markdown",
   "id": "f61b32df",
   "metadata": {},
   "source": [
    "### 8. How do I get int literal attribute instead of SyntaxError?"
   ]
  },
  {
   "cell_type": "code",
   "execution_count": 27,
   "id": "9875f91f",
   "metadata": {},
   "outputs": [
    {
     "ename": "SyntaxError",
     "evalue": "invalid decimal literal (4151937913.py, line 1)",
     "output_type": "error",
     "traceback": [
      "\u001b[1;36m  Input \u001b[1;32mIn [27]\u001b[1;36m\u001b[0m\n\u001b[1;33m    1.__class__\u001b[0m\n\u001b[1;37m     ^\u001b[0m\n\u001b[1;31mSyntaxError\u001b[0m\u001b[1;31m:\u001b[0m invalid decimal literal\n"
     ]
    }
   ],
   "source": [
    "1.__class__"
   ]
  },
  {
   "cell_type": "code",
   "execution_count": 30,
   "id": "21e9d069",
   "metadata": {},
   "outputs": [
    {
     "data": {
      "text/plain": [
       "int"
      ]
     },
     "execution_count": 30,
     "metadata": {},
     "output_type": "execute_result"
    }
   ],
   "source": [
    "1 .__class__\n",
    "(1).__class__"
   ]
  },
  {
   "cell_type": "markdown",
   "id": "2b379e9b",
   "metadata": {},
   "source": [
    "### 9. How do I modify a string in place with io.StringIO?"
   ]
  },
  {
   "cell_type": "code",
   "execution_count": 31,
   "id": "94e9fcc4",
   "metadata": {},
   "outputs": [
    {
     "data": {
      "text/plain": [
       "'Hello, there!'"
      ]
     },
     "execution_count": 31,
     "metadata": {},
     "output_type": "execute_result"
    }
   ],
   "source": [
    "import io\n",
    "s = \"Hello, world\"\n",
    "sio = io.StringIO(s)\n",
    "sio.getvalue()\n",
    "sio.seek(7)\n",
    "sio.write(\"there!\")\n",
    "sio.getvalue()"
   ]
  },
  {
   "cell_type": "markdown",
   "id": "e4b01a8e",
   "metadata": {},
   "source": [
    "### 10.How do I modify a string in place with array?"
   ]
  },
  {
   "cell_type": "code",
   "execution_count": 6,
   "id": "0a818907",
   "metadata": {},
   "outputs": [
    {
     "data": {
      "text/plain": [
       "'yello World'"
      ]
     },
     "execution_count": 6,
     "metadata": {},
     "output_type": "execute_result"
    }
   ],
   "source": [
    "import array\n",
    "s = \"Hello World\"\n",
    "ar_s = array.array('u',s)\n",
    "ar_s[0] = 'y'\n",
    "ar_s.tounicode()"
   ]
  },
  {
   "cell_type": "code",
   "execution_count": 3,
   "id": "c40598cf",
   "metadata": {},
   "outputs": [],
   "source": []
  },
  {
   "cell_type": "code",
   "execution_count": null,
   "id": "6ed4330f",
   "metadata": {},
   "outputs": [],
   "source": []
  },
  {
   "cell_type": "code",
   "execution_count": null,
   "id": "b8a2bd9e",
   "metadata": {},
   "outputs": [],
   "source": []
  }
 ],
 "metadata": {
  "kernelspec": {
   "display_name": "Python 3 (ipykernel)",
   "language": "python",
   "name": "python3"
  },
  "language_info": {
   "codemirror_mode": {
    "name": "ipython",
    "version": 3
   },
   "file_extension": ".py",
   "mimetype": "text/x-python",
   "name": "python",
   "nbconvert_exporter": "python",
   "pygments_lexer": "ipython3",
   "version": "3.10.5"
  }
 },
 "nbformat": 4,
 "nbformat_minor": 5
}
