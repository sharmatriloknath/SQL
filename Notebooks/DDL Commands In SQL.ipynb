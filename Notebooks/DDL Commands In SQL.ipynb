{
 "cells": [
  {
   "cell_type": "markdown",
   "id": "03436bad",
   "metadata": {},
   "source": [
    "## DDL COMMANDS\n",
    "\n",
    "DDL or Data Definition Language actually consists of the SQL commands that can be used to define the database schema. It simply deals with descriptions of the database schema and is used to create and modify the structure of database objects in the database.DDL is a set of SQL commands used to create, modify, and delete database structures but not data. These commands are normally not used by a general user, who should be accessing the database via an application.\n",
    "\n",
    "List of DDL commands: \n",
    "- CREATE: This command is used to create the database or its objects (like table, index, function, views, store procedure, and triggers).\n",
    "- DROP: This command is used to delete objects from the database.\n",
    "- ALTER: This is used to alter the structure of the database.\n",
    "- TRUNCATE: This is used to remove all records from a table, including all spaces allocated for the records are removed.\n",
    "- COMMENT: This is used to add comments to the data dictionary.\n",
    "- RENAME: This is used to rename an object existing in the database."
   ]
  },
  {
   "cell_type": "code",
   "execution_count": 1,
   "id": "d56912ea",
   "metadata": {},
   "outputs": [],
   "source": [
    "#Load The SQL Magic\n",
    "%load_ext sql"
   ]
  },
  {
   "cell_type": "code",
   "execution_count": 2,
   "id": "276fc5b7",
   "metadata": {},
   "outputs": [],
   "source": [
    "#Establish Connection with the database.\n",
    "%sql sqlite:///../Databases/chinook.db"
   ]
  },
  {
   "cell_type": "markdown",
   "id": "4e733366",
   "metadata": {},
   "source": [
    "#### Discuss Each and every DDL Command with examples."
   ]
  },
  {
   "cell_type": "markdown",
   "id": "3c3707f3",
   "metadata": {},
   "source": [
    "### 1. CREATE\n",
    "- This command is used to create the database or its objects (like table, index, function, views, store procedure, and triggers)."
   ]
  },
  {
   "cell_type": "code",
   "execution_count": 9,
   "id": "35dd804d",
   "metadata": {},
   "outputs": [
    {
     "name": "stdout",
     "output_type": "stream",
     "text": [
      " * sqlite:///../Databases/chinook.db\n",
      "Done.\n"
     ]
    },
    {
     "data": {
      "text/plain": [
       "[]"
      ]
     },
     "execution_count": 9,
     "metadata": {},
     "output_type": "execute_result"
    }
   ],
   "source": [
    "%%sql\n",
    "CREATE TABLE STUDENT\n",
    "(\n",
    "first_name varchar(20),\n",
    "last_name varchar(20),\n",
    "school varchar(20)\n",
    ");"
   ]
  },
  {
   "cell_type": "code",
   "execution_count": 15,
   "id": "d1157326",
   "metadata": {},
   "outputs": [
    {
     "name": "stdout",
     "output_type": "stream",
     "text": [
      " * sqlite:///../Databases/chinook.db\n",
      "Done.\n"
     ]
    },
    {
     "data": {
      "text/html": [
       "<table>\n",
       "    <tr>\n",
       "        <th>first_name</th>\n",
       "        <th>last_name</th>\n",
       "        <th>school</th>\n",
       "    </tr>\n",
       "</table>"
      ],
      "text/plain": [
       "[]"
      ]
     },
     "execution_count": 15,
     "metadata": {},
     "output_type": "execute_result"
    }
   ],
   "source": [
    "%sql Select * from STUDENT;"
   ]
  },
  {
   "cell_type": "markdown",
   "id": "39af9d64",
   "metadata": {},
   "source": [
    "## 2. ALTER\n",
    "- This is used to alter the structure of the database."
   ]
  },
  {
   "cell_type": "markdown",
   "id": "ce41ad5c",
   "metadata": {},
   "source": [
    "#### 1. Add a new column in the table."
   ]
  },
  {
   "cell_type": "code",
   "execution_count": 16,
   "id": "f30e8dc6",
   "metadata": {},
   "outputs": [
    {
     "name": "stdout",
     "output_type": "stream",
     "text": [
      " * sqlite:///../Databases/chinook.db\n",
      "Done.\n"
     ]
    },
    {
     "data": {
      "text/plain": [
       "[]"
      ]
     },
     "execution_count": 16,
     "metadata": {},
     "output_type": "execute_result"
    }
   ],
   "source": [
    "%%sql\n",
    "ALTER TABLE STUDENT ADD class int;"
   ]
  },
  {
   "cell_type": "code",
   "execution_count": 17,
   "id": "62ed15a7",
   "metadata": {},
   "outputs": [
    {
     "name": "stdout",
     "output_type": "stream",
     "text": [
      " * sqlite:///../Databases/chinook.db\n",
      "Done.\n"
     ]
    },
    {
     "data": {
      "text/html": [
       "<table>\n",
       "    <tr>\n",
       "        <th>first_name</th>\n",
       "        <th>last_name</th>\n",
       "        <th>school</th>\n",
       "        <th>class</th>\n",
       "    </tr>\n",
       "</table>"
      ],
      "text/plain": [
       "[]"
      ]
     },
     "execution_count": 17,
     "metadata": {},
     "output_type": "execute_result"
    }
   ],
   "source": [
    "%sql Select * from STUDENT;"
   ]
  },
  {
   "cell_type": "markdown",
   "id": "63cd473e",
   "metadata": {},
   "source": [
    "#### 2. Add Multiple Columns In The Table."
   ]
  },
  {
   "cell_type": "markdown",
   "id": "81deeccb",
   "metadata": {},
   "source": [
    "```sql\n",
    "ALTER TABLE STUDENT\n",
    "ADD COLUMN age int,\n",
    "ADD COLUMN address varchar(100);\n",
    "\n",
    "OR\n",
    "\n",
    "ALTER TABLE STUDENT\n",
    "ADD\n",
    "(\n",
    "    age int,\n",
    "    address varchar(100)\n",
    ")\n",
    "```\n",
    "SQlite not supports multiple columns at once. [check here]('https://www.sqltutorial.org/sql-add-column/')"
   ]
  },
  {
   "cell_type": "markdown",
   "id": "3d8db1f5",
   "metadata": {},
   "source": [
    "#### 3. modify column `class` to `student_class`\n",
    "- `MODIFY`:The MODIFY clause allows you to change some attributes of the existing column e.g., NOT NULL ,UNIQUE, and data type."
   ]
  },
  {
   "cell_type": "markdown",
   "id": "be50bf1a",
   "metadata": {},
   "source": [
    "```sql\n",
    "ALTER TABLE STUDENT\n",
    "MODIFY class varchar(30);\n",
    "```\n",
    "That's one of the better-known drawbacks of SQLite (no MODIFY COLUMN support on ALTER TABLE), but it's on the list of SQL features that SQLite does not implement.\n",
    "https://stackoverflow.com/questions/2685885/sqlite-modify-column#:~:text=SQLite%20Modify%20Column%201%20Create%20a%20new%20table,4%20Rename%20new%20table%20to%20old%20tables%20name"
   ]
  },
  {
   "cell_type": "markdown",
   "id": "14f8f7ea",
   "metadata": {},
   "source": [
    "#### 4. Drop Column `class`"
   ]
  },
  {
   "cell_type": "code",
   "execution_count": 36,
   "id": "85352364",
   "metadata": {},
   "outputs": [
    {
     "name": "stdout",
     "output_type": "stream",
     "text": [
      " * sqlite:///../Databases/chinook.db\n",
      "Done.\n"
     ]
    },
    {
     "data": {
      "text/plain": [
       "[]"
      ]
     },
     "execution_count": 36,
     "metadata": {},
     "output_type": "execute_result"
    }
   ],
   "source": [
    "%%sql\n",
    "ALTER TABLE STUDENT\n",
    "DROP class;"
   ]
  },
  {
   "cell_type": "code",
   "execution_count": 37,
   "id": "680f5359",
   "metadata": {},
   "outputs": [
    {
     "name": "stdout",
     "output_type": "stream",
     "text": [
      " * sqlite:///../Databases/chinook.db\n",
      "Done.\n"
     ]
    },
    {
     "data": {
      "text/html": [
       "<table>\n",
       "    <tr>\n",
       "        <th>first_name</th>\n",
       "        <th>last_name</th>\n",
       "        <th>school</th>\n",
       "    </tr>\n",
       "</table>"
      ],
      "text/plain": [
       "[]"
      ]
     },
     "execution_count": 37,
     "metadata": {},
     "output_type": "execute_result"
    }
   ],
   "source": [
    "%sql Select * from STUDENT;"
   ]
  },
  {
   "cell_type": "markdown",
   "id": "379459d2",
   "metadata": {},
   "source": [
    "#### 5. Drop Multiple Columns"
   ]
  },
  {
   "cell_type": "code",
   "execution_count": null,
   "id": "591ec271",
   "metadata": {},
   "outputs": [],
   "source": [
    "%%sql\n",
    "ALTER TABLE STUDENT\n",
    "DROP(school,last_name);\n",
    "\n",
    "OR\n",
    "\n",
    "ALTER TABLE STUDENT\n",
    "DROP school,\n",
    "DROP last_name"
   ]
  },
  {
   "cell_type": "markdown",
   "id": "5c34186a",
   "metadata": {},
   "source": [
    "#### 6. Rename column Name"
   ]
  },
  {
   "cell_type": "code",
   "execution_count": 41,
   "id": "6c9f7d22",
   "metadata": {},
   "outputs": [
    {
     "name": "stdout",
     "output_type": "stream",
     "text": [
      " * sqlite:///../Databases/chinook.db\n",
      "Done.\n"
     ]
    },
    {
     "data": {
      "text/plain": [
       "[]"
      ]
     },
     "execution_count": 41,
     "metadata": {},
     "output_type": "execute_result"
    }
   ],
   "source": [
    "%%sql\n",
    "ALTER TABLE STUDENT\n",
    "RENAME school to school_name;"
   ]
  },
  {
   "cell_type": "code",
   "execution_count": 42,
   "id": "97b45a76",
   "metadata": {},
   "outputs": [
    {
     "name": "stdout",
     "output_type": "stream",
     "text": [
      " * sqlite:///../Databases/chinook.db\n",
      "Done.\n"
     ]
    },
    {
     "data": {
      "text/html": [
       "<table>\n",
       "    <tr>\n",
       "        <th>first_name</th>\n",
       "        <th>last_name</th>\n",
       "        <th>school_name</th>\n",
       "    </tr>\n",
       "</table>"
      ],
      "text/plain": [
       "[]"
      ]
     },
     "execution_count": 42,
     "metadata": {},
     "output_type": "execute_result"
    }
   ],
   "source": [
    "%sql Select * from STUDENT;"
   ]
  },
  {
   "cell_type": "markdown",
   "id": "dc070731",
   "metadata": {},
   "source": [
    "## 3. RENAME\n",
    "- This is used to rename an object existing in the database."
   ]
  },
  {
   "cell_type": "markdown",
   "id": "52580650",
   "metadata": {},
   "source": [
    "#### 1. Rename Table name"
   ]
  },
  {
   "cell_type": "code",
   "execution_count": 40,
   "id": "ef02d643",
   "metadata": {},
   "outputs": [
    {
     "name": "stdout",
     "output_type": "stream",
     "text": [
      " * sqlite:///../Databases/chinook.db\n",
      "(sqlite3.OperationalError) near \"RENAME\": syntax error\n",
      "[SQL: RENAME TABLE STUDENT TO STUDENT_INFO;]\n",
      "(Background on this error at: http://sqlalche.me/e/e3q8)\n"
     ]
    }
   ],
   "source": [
    "%%sql\n",
    "RENAME TABLE STUDENT TO STUDENT_INFO;"
   ]
  },
  {
   "cell_type": "markdown",
   "id": "5d04b5a8",
   "metadata": {},
   "source": [
    "## 4. DROP\n",
    "- Drop the table from the database."
   ]
  },
  {
   "cell_type": "markdown",
   "id": "50ffc98d",
   "metadata": {},
   "source": [
    "#### 1. Drop Table."
   ]
  },
  {
   "cell_type": "code",
   "execution_count": 43,
   "id": "747cb552",
   "metadata": {},
   "outputs": [
    {
     "name": "stdout",
     "output_type": "stream",
     "text": [
      " * sqlite:///../Databases/chinook.db\n",
      "Done.\n"
     ]
    },
    {
     "data": {
      "text/plain": [
       "[]"
      ]
     },
     "execution_count": 43,
     "metadata": {},
     "output_type": "execute_result"
    }
   ],
   "source": [
    "%%sql\n",
    "DROP TABLE STUDENT;"
   ]
  },
  {
   "cell_type": "code",
   "execution_count": 44,
   "id": "5dd6c2f6",
   "metadata": {},
   "outputs": [
    {
     "name": "stdout",
     "output_type": "stream",
     "text": [
      " * sqlite:///../Databases/chinook.db\n",
      "(sqlite3.OperationalError) no such table: STUDENT\n",
      "[SQL: Select * from STUDENT;]\n",
      "(Background on this error at: http://sqlalche.me/e/e3q8)\n"
     ]
    }
   ],
   "source": [
    "%sql Select * from STUDENT;"
   ]
  },
  {
   "cell_type": "markdown",
   "id": "cc785a43",
   "metadata": {},
   "source": [
    "## 5. TRUNCATE\n",
    "- used to delete the data from the table.\n",
    "- TRUNCATE is another DDL command which deletes or removes all the records from the table."
   ]
  },
  {
   "cell_type": "code",
   "execution_count": 45,
   "id": "ced70eeb",
   "metadata": {},
   "outputs": [
    {
     "name": "stdout",
     "output_type": "stream",
     "text": [
      " * sqlite:///../Databases/chinook.db\n",
      "(sqlite3.OperationalError) near \"TRUNCATE\": syntax error\n",
      "[SQL: TRUNCATE TABLE STUDENT;]\n",
      "(Background on this error at: http://sqlalche.me/e/e3q8)\n"
     ]
    }
   ],
   "source": [
    "%%sql\n",
    "TRUNCATE TABLE STUDENT;"
   ]
  },
  {
   "cell_type": "code",
   "execution_count": 48,
   "id": "48faf97c",
   "metadata": {},
   "outputs": [
    {
     "name": "stdout",
     "output_type": "stream",
     "text": [
      " * sqlite:///../Databases/chinook.db\n",
      "(sqlite3.OperationalError) near \"DECLARE\": syntax error\n",
      "[SQL: DECLARE NAME VARCHAR(20)\n",
      "SET NAME=\"TRILOK\"\n",
      "SELECT @NAME;]\n",
      "(Background on this error at: http://sqlalche.me/e/e3q8)\n"
     ]
    }
   ],
   "source": [
    "%%sql\n",
    "DECLARE NAME VARCHAR(20)\n",
    "SET NAME=\"TRILOK\"\n",
    "SELECT @NAME;"
   ]
  },
  {
   "cell_type": "code",
   "execution_count": null,
   "id": "d9bb0a00",
   "metadata": {},
   "outputs": [],
   "source": []
  }
 ],
 "metadata": {
  "kernelspec": {
   "display_name": "Python 3 (ipykernel)",
   "language": "python",
   "name": "python3"
  },
  "language_info": {
   "codemirror_mode": {
    "name": "ipython",
    "version": 3
   },
   "file_extension": ".py",
   "mimetype": "text/x-python",
   "name": "python",
   "nbconvert_exporter": "python",
   "pygments_lexer": "ipython3",
   "version": "3.10.5"
  }
 },
 "nbformat": 4,
 "nbformat_minor": 5
}
